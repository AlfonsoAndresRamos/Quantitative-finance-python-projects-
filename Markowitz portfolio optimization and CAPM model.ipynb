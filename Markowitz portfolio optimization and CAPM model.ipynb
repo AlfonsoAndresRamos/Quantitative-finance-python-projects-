{
 "cells": [
  {
   "cell_type": "markdown",
   "id": "320ac8ca",
   "metadata": {},
   "source": [
    "## Portfolio optimization project"
   ]
  },
  {
   "cell_type": "markdown",
   "id": "ea6c8a70",
   "metadata": {},
   "source": [
    "This project focuses on implementing quantitative methods for portfolio optimization and financial analysis. It provides a Python-based framework for analyzing financial assets, calculating efficient portfolios, and visualizing risk-return tradeoffs. The key objectives are to construct portfolios that maximize returns for a given level of risk or minimize risk for a desired return, leveraging classical finance theories like Modern Portfolio Theory (MPT) and the Capital Asset Pricing Model (CAPM).\n",
    "\n",
    "The project includes creating a class with the following functionalities:\n",
    "\n",
    "**Data Retrieval**: Fetches intraday financial data for selected assets using the Alpha Vantage API.\n",
    "\n",
    "**Risk and Return Analysis**: Computes average returns, variances, and covariance matrices for portfolio assets.\n",
    "\n",
    "**Portfolio Optimization**: Implements methods to calculate minimum variance weights and expected returns for portfolios, including risk-free assets.\n",
    "\n",
    "**Efficient Frontier & Capital Market Line**: Visualizes the efficient frontier and the capital market line to highlight optimal portfolios.\n",
    "\n",
    "**CAPM Beta Calculation**: Estimates the beta of individual assets relative to a market index.\n",
    "The tool is designed for investors, financial analysts, and students seeking practical insights into portfolio management and optimization techniques."
   ]
  },
  {
   "cell_type": "code",
   "execution_count": 37,
   "id": "55865fc1",
   "metadata": {},
   "outputs": [],
   "source": [
    "import requests\n",
    "import pandas as pd\n",
    "import pandas as pd\n",
    "import numpy as np\n",
    "import math\n",
    "import matplotlib.pyplot as plt\n",
    "import seaborn as sns\n",
    "import statsmodels.api as sm"
   ]
  },
  {
   "cell_type": "code",
   "execution_count": 68,
   "id": "26abff08",
   "metadata": {},
   "outputs": [],
   "source": [
    "class Portfolio:\n",
    "    def __init__(self, *args, interval, risk_free=0):\n",
    "        \"\"\"\n",
    "        Initialize the Portfolio2 object with a list of stock symbols, interval for data retrieval,\n",
    "        and an optional risk-free rate.\n",
    "        \n",
    "        Parameters:\n",
    "        - args: Stock symbols to include in the portfolio.\n",
    "        - interval: Time interval for stock data (e.g., '1min', '5min').\n",
    "        - risk_free: The risk-free rate of return, default is 0.\n",
    "        \"\"\"\n",
    "        self.riskfree_return = risk_free\n",
    "        self.args = list(args)  # Store stock symbols as a list\n",
    "        self.interval = interval  # Time interval for data retrieval\n",
    "        self.dataframes = {}  # Dictionary to store DataFrames for each symbol\n",
    "        self.returns = []  # List to store average returns\n",
    "        self.risk = []  # List to store volatilities (variance)\n",
    "\n",
    "        for symbol in self.args:\n",
    "            # Construct the URL for the Alpha Vantage API\n",
    "            url = (\n",
    "                f\"https://www.alphavantage.co/query?function=TIME_SERIES_INTRADAY\"\n",
    "                f\"&symbol={symbol}&interval={interval}&apikey=I7JS2OQULR9YW24U\"\n",
    "            )\n",
    "            r = requests.get(url)\n",
    "            data = r.json()\n",
    "\n",
    "            # Check if the API response contains the required data\n",
    "            if f\"Time Series ({interval})\" in data:\n",
    "                # Create a DataFrame from the retrieved data\n",
    "                df = pd.DataFrame(data[f\"Time Series ({interval})\"]).T\n",
    "                df = df.astype(\"float\")  # Ensure numeric data types\n",
    "                self.dataframes[symbol] = df\n",
    "\n",
    "                # Calculate average returns and variance (risk)\n",
    "                self.returns.append(df[\"2. high\"].pct_change().mean())  # Average return\n",
    "                self.risk.append(df[\"2. high\"].var())  # Variance as risk\n",
    "            else:\n",
    "                print(f\"Failed to fetch data for {symbol}. Response: {data}\")\n",
    "                self.dataframes[symbol] = None\n",
    "                self.returns.append(None)\n",
    "                self.risk.append(None)\n",
    "\n",
    "        # Compute the covariance matrix and related attributes\n",
    "        self.cov_matrix = np.asmatrix(self.cov_matrix_())\n",
    "        self.O = np.asmatrix(np.ones(len(args)))  # Vector of ones\n",
    "        self.cov_matrix_inv = np.linalg.inv(self.cov_matrix)  # Inverse of the covariance matrix\n",
    "\n",
    "    def cov_matrix_(self):\n",
    "        \"\"\"\n",
    "        Compute the covariance matrix of asset returns based on high prices.\n",
    "        \"\"\"\n",
    "        # Filter out symbols with invalid data\n",
    "        valid_dataframes = {k: v for k, v in self.dataframes.items() if v is not None}\n",
    "\n",
    "        if len(valid_dataframes) < 2:\n",
    "            print(\"Not enough valid data to compute covariance matrix.\")\n",
    "            return None\n",
    "\n",
    "        # Extract \"2. high\" data and compute percent changes for covariance\n",
    "        high_data = {\n",
    "            symbol: df[\"2. high\"].astype(\"float\").pct_change().dropna()\n",
    "            for symbol, df in valid_dataframes.items()\n",
    "        }\n",
    "\n",
    "        # Combine into a single DataFrame and compute covariance matrix\n",
    "        combined_df = pd.DataFrame(high_data)\n",
    "        return combined_df.cov()\n",
    "\n",
    "    def Two_assets(self):\n",
    "        \"\"\"\n",
    "        Calculate the weights and risk for a two-asset portfolio.\n",
    "        \"\"\"\n",
    "        if len(self.risk) != 2:\n",
    "            raise ValueError(\"Must be a two-asset portfolio\")\n",
    "        else:\n",
    "            sigma1, sigma2 = self.risk[0], self.risk[1]\n",
    "            corr = self.cov_matrix[0, 1]  # Correlation between the two assets\n",
    "\n",
    "            # Handle different correlation cases\n",
    "            if corr == 1:\n",
    "                if sigma1 == sigma2:\n",
    "                    w1, w2 = 0.5, 0.5\n",
    "                    sigma = sigma1\n",
    "                elif sigma1 < sigma2:\n",
    "                    w2 = sigma1 / (sigma1 - sigma2)\n",
    "                    w1 = 1 - w2\n",
    "                    sigma = 0\n",
    "                elif sigma1 > sigma2:\n",
    "                    w1 = sigma2 / (sigma1 - sigma2)\n",
    "                    w2 = 1 - w1\n",
    "                    sigma = 0\n",
    "            elif corr == -1:\n",
    "                w2 = sigma1 / (sigma1 - sigma2)\n",
    "                w1 = 1 - w2\n",
    "                sigma = 0\n",
    "            else:  # -1 < corr < 1\n",
    "                w2 = (sigma1 * (sigma1 - corr * sigma2)) / (sigma1**2 + sigma2**2 - 2 * corr * sigma1 * sigma2)\n",
    "                w1 = 1 - w2\n",
    "                sigma = np.sqrt(((sigma1**2) * (sigma2**2) * (1 - corr**2)) / (sigma1**2 + sigma2**2 - 2 * corr * sigma1 * sigma2))\n",
    "            return w1, w2, sigma\n",
    "\n",
    "    def min_weight(self):\n",
    "        \"\"\"\n",
    "        Compute the minimum variance portfolio weights.\n",
    "        \"\"\"\n",
    "        if self.riskfree_return == 0:\n",
    "            return (self.O * self.cov_matrix_inv) / (self.O * self.cov_matrix_inv * np.transpose(self.O))\n",
    "        else:\n",
    "            return ((self.returns - (self.riskfree_return * self.O)) * self.cov_matrix_inv) / (\n",
    "                (self.returns - (self.riskfree_return * self.O)) * self.cov_matrix_inv * np.transpose(self.O)\n",
    "            )\n",
    "\n",
    "    def min_weight_return(self, exp):\n",
    "        \"\"\"\n",
    "        Compute the portfolio weights for a given expected return.\n",
    "        \"\"\"\n",
    "        m1, m2, m3 = np.zeros((2, 2)), np.zeros((2, 2)), np.zeros((2, 2))\n",
    "        m1[0, 1] = np.asmatrix(self.returns) * self.cov_matrix_inv * np.transpose(self.O)\n",
    "        m1[1, 1] = self.O * self.cov_matrix_inv * np.transpose(self.O)\n",
    "        m2[0, 0] = np.asmatrix(self.returns) * self.cov_matrix_inv * np.transpose(np.asmatrix(self.returns))\n",
    "        m2[1, 0] = self.O * self.cov_matrix_inv * np.transpose(np.asmatrix(self.returns))\n",
    "        m1[:, 0] = [exp, 1]\n",
    "        m2[:, 1] = [exp, 1]\n",
    "        m3[:, 1] = m1[:, 1]\n",
    "        m3[:, 0] = m2[:, 0]\n",
    "        return ((np.linalg.det(m1) * np.asmatrix(self.returns) * self.cov_matrix_inv) +\n",
    "                (np.linalg.det(m2) * self.O * self.cov_matrix_inv)) / (np.linalg.det(m3))\n",
    "\n",
    "    def capital_market_line(self):\n",
    "        \"\"\"\n",
    "        Plot the Capital Market Line and Efficient Frontier.\n",
    "        \"\"\"\n",
    "        # Define risk and return ranges\n",
    "        risk_values = np.linspace(0.001, 0.4, 1000)\n",
    "        expected_values = np.linspace(0.001, 0.4, 1000)\n",
    "\n",
    "        # Risk and return of the risky portfolio\n",
    "        mu_der = self.min_return()\n",
    "        sigma_der = self.min_risk()\n",
    "\n",
    "        # Compute the frontier and capital market line\n",
    "        risk_for_expected = np.array([self.min_risk_return(j) for j in expected_values])\n",
    "        capital_market_line = (((mu_der - self.riskfree_return) / sigma_der) * risk_values) + self.riskfree_return\n",
    "\n",
    "        # Create the plot\n",
    "        plt.figure(figsize=(10, 6))\n",
    "        plt.plot(risk_values, capital_market_line, color=\"blue\", label=\"Capital Market Line\")\n",
    "        plt.plot(risk_for_expected, expected_values, color=\"green\", label=\"Efficient Frontier\")\n",
    "        plt.plot(self.min_risk(), self.min_return(), '-ro', color=\"red\")\n",
    "        plt.title(\"Capital Market Line\")\n",
    "        plt.xlabel(\"$\\sigma \\;$ Risk\")\n",
    "        plt.ylabel(\"$\\mu$ Return\")\n",
    "        plt.legend()\n",
    "        plt.grid(True)\n",
    "        plt.show()\n",
    "        \n",
    "    def min_risk(self):\n",
    "        \"\"\"\n",
    "        Compute the minimum risk \n",
    "        \"\"\"\n",
    "        return float(np.sqrt(self.min_weight()*self.cov_matrix*np.asmatrix(np.transpose(self.min_weight()))))\n",
    "        \n",
    "    def min_return(self):\n",
    "        \"\"\"\n",
    "        Compute minimum returns\n",
    "        \"\"\"\n",
    "        return float(self.returns*np.transpose(self.min_weight()))\n",
    "    \n",
    "    def min_risk_return(self,exp):\n",
    "        return float(np.sqrt(self.min_weight_return(exp) * self.cov_matrix * np.asmatrix(np.transpose(self.min_weight_return(exp)))))\n",
    "        \n",
    "    #def min_return_ret(self,exp):\n",
    "        #return self.returns*np.transpose(self.min_weight_return(exp))\n",
    "\n",
    "    def CAPM_beta(self, asset_ticker, market_index_ticker):\n",
    "        \"\"\"\n",
    "        Calculate the beta of an asset using CAPM.\n",
    "        \"\"\"\n",
    "        # Retrieve asset data\n",
    "        if asset_ticker in self.args:\n",
    "            self.asset_return = self.dataframes[asset_ticker][\"2. high\"].pct_change()\n",
    "        else:\n",
    "            url = (\n",
    "                f\"https://www.alphavantage.co/query?function=TIME_SERIES_INTRADAY\"\n",
    "                f\"&symbol={asset_ticker}&interval={self.interval}&apikey=I7JS2OQULR9YW24U\"\n",
    "            )\n",
    "            r = requests.get(url)\n",
    "            data = r.json()\n",
    "            self.asset_return = pd.DataFrame(data[f\"Time Series {self.interval}\"]).T\n",
    "\n",
    "        # Retrieve market index data\n",
    "        url = (\n",
    "            f\"https://www.alphavantage.co/query?function=TIME_SERIES_INTRADAY\"\n",
    "            f\"&symbol={market_index_ticker}&interval={self.interval}&apikey=I7JS2OQULR9YW24U\"\n",
    "        )\n",
    "        r = requests.get(url)\n",
    "        data = r.json()\n",
    "        self.market_index_returns = pd.DataFrame(data[f\"Time Series {self.interval}\"]).T.astype(\"float\")[\"2. high\"].pct_change()\n",
    "\n",
    "        # Compute beta using regression\n",
    "        self.X = np.array(self.market_index_returns - self.riskfree_return)\n",
    "        self.y = self.asset_return\n",
    "        self.X_with_intercept = np.hstack([np.ones((self.X.shape[0], 1)) * self.riskfree_return, np.transpose(np.asmatrix(self.X))])\n",
    "        model = sm.OLS(self.y, self.X_with_intercept, missing='drop').fit()\n",
    "\n",
    "        # Return beta values\n",
    "        self.beta = model.params[1]\n",
    "        return self.beta\n"
   ]
  },
  {
   "cell_type": "markdown",
   "id": "adf18187",
   "metadata": {},
   "source": [
    "Our Portfolio class takes into account smaller intervals (1min, 5min, 15min, 30min, 60min) than libraries like PyPortfolioOpt\n"
   ]
  },
  {
   "cell_type": "markdown",
   "id": "d47244cb",
   "metadata": {},
   "source": [
    "We will see how the class runs using a random portfolio of three stocks (NVIDIA, Infosys, and Wheaton), with returns taken every 30 minutes, and a risk free rate 4.25% based on the 10 year U.S treasury bond."
   ]
  },
  {
   "cell_type": "code",
   "execution_count": 39,
   "id": "98507afd",
   "metadata": {},
   "outputs": [],
   "source": [
    "pf=Portfolio(\"NVDA\",\"INFY\",\"WPM\",interval=\"30min\",risk_free=0.0425/(266*10))"
   ]
  },
  {
   "cell_type": "code",
   "execution_count": 63,
   "id": "73471f5e",
   "metadata": {},
   "outputs": [
    {
     "name": "stdout",
     "output_type": "stream",
     "text": [
      " Assets returns in order are: [-0.0003256942141530918, 0.0005640447096450781, -4.6378850720844615e-05]\n",
      " Assets risks in order are: pf.returns: [4.933014571652525, 0.10237496171616171, 0.4719451959636369]\n"
     ]
    }
   ],
   "source": [
    "print(f' Assets returns in order are: {pf.returns}')\n",
    "print(f' Assets risks in order are: pf.returns: {pf.risk}')\n"
   ]
  },
  {
   "cell_type": "markdown",
   "id": "62dd4843",
   "metadata": {},
   "source": [
    "In this case, the optimal portfolio allocation suggests shorting Nvidia stock to increase long positions in Infosys and Wheaton Metals Corp"
   ]
  },
  {
   "cell_type": "code",
   "execution_count": 64,
   "id": "897eafe4",
   "metadata": {},
   "outputs": [
    {
     "name": "stdout",
     "output_type": "stream",
     "text": [
      "The minimum weights for a Capital Market Portfolio: [[-0.1386813   1.07503462  0.06364668]]\n",
      "The minimum risk is: 0.0064358876594998605\n",
      "The minimum return for a minimum risk Portfolio is: 0.0006485834254211754\n"
     ]
    }
   ],
   "source": [
    "print(f'The minimum weights for a Capital Market Portfolio: {pf.min_weight()}')\n",
    "print(f'The minimum risk is: {pf.min_risk()}')\n",
    "print(f'The minimum return for a minimum risk Portfolio is: {pf.min_return()}')"
   ]
  },
  {
   "cell_type": "code",
   "execution_count": null,
   "id": "ea7b6541",
   "metadata": {},
   "outputs": [],
   "source": [
    "Now let´s check the weights of a minimum risk portfolio with an expected return of 1% in this time interval"
   ]
  },
  {
   "cell_type": "code",
   "execution_count": 66,
   "id": "1f743cd3",
   "metadata": {},
   "outputs": [
    {
     "name": "stdout",
     "output_type": "stream",
     "text": [
      "The weights for a Portfolio with a 1% return and minimum risk is:[[-5.17216006 14.09138776 -7.9192277 ]]\n",
      "The minimum risk is: 0.12438093318663844\n"
     ]
    }
   ],
   "source": [
    "print(f'The weights for a Portfolio with a 1% return and minimum risk is:{pf.min_weight_return(0.01)}')\n",
    "print(f'The minimum risk is: {pf.min_risk_return(0.01)}')"
   ]
  },
  {
   "cell_type": "markdown",
   "id": "de6f0967",
   "metadata": {},
   "source": [
    "We can see that the minimum risk is 12% for a Portfolio with and expected return of 1%. A lot higher in comparision with the minimum risk Portfolio from before that returned a 0.6% risk"
   ]
  },
  {
   "cell_type": "markdown",
   "id": "1505eac0",
   "metadata": {},
   "source": [
    "Now let´s compute the Nvidia Beta from the Capital Asset Pricing model, taking the S&P 500 (Computed through Vangard ETF) as the baseline market returns.\n",
    "We can see that &\\Beta$>1. Meaning a higher risk than the market but also a greater level of expected returns"
   ]
  },
  {
   "cell_type": "code",
   "execution_count": 67,
   "id": "2269c7e6",
   "metadata": {},
   "outputs": [
    {
     "data": {
      "text/plain": [
       "1.12"
      ]
     },
     "execution_count": 67,
     "metadata": {},
     "output_type": "execute_result"
    }
   ],
   "source": [
    "pf.CAPM_beta(\"NVDA\",\"VOO\")"
   ]
  }
 ],
 "metadata": {
  "kernelspec": {
   "display_name": "Python 3 (ipykernel)",
   "language": "python",
   "name": "python3"
  },
  "language_info": {
   "codemirror_mode": {
    "name": "ipython",
    "version": 3
   },
   "file_extension": ".py",
   "mimetype": "text/x-python",
   "name": "python",
   "nbconvert_exporter": "python",
   "pygments_lexer": "ipython3",
   "version": "3.11.5"
  }
 },
 "nbformat": 4,
 "nbformat_minor": 5
}
